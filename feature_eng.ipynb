{
 "cells": [
  {
   "cell_type": "markdown",
   "metadata": {},
   "source": [
    "# Preprocessing"
   ]
  },
  {
   "cell_type": "code",
   "execution_count": 14,
   "metadata": {},
   "outputs": [],
   "source": [
    "import pandas as pd\n",
    "import numpy as np\n",
    "import os\n",
    "import seaborn as sns\n",
    "import matplotlib.pyplot as plt\n",
    "from sklearn.feature_extraction.text import TfidfTransformer\n",
    "from sklearn.model_selection import train_test_split\n",
    "from sklearn.feature_extraction.text import CountVectorizer\n",
    "from sklearn.pipeline import Pipeline\n",
    "from sklearn.metrics import classification_report, confusion_matrix\n",
    "import re\n",
    "import string\n",
    "import gensim\n",
    "from nltk.corpus import stopwords\n",
    "from sklearn.naive_bayes import MultinomialNB\n",
    "from sklearn.linear_model import LogisticRegression\n",
    "from nltk.stem.snowball import SnowballStemmer\n",
    "\n",
    "from sklearn.feature_extraction import DictVectorizer\n",
    "from scipy.sparse import csr_matrix\n",
    "from xgboost import XGBClassifier\n",
    "import tldextract\n",
    "from urllib.parse import urlparse"
   ]
  },
  {
   "cell_type": "code",
   "execution_count": 3,
   "metadata": {},
   "outputs": [],
   "source": [
    "df = pd.read_csv('phishing_site_urls.csv')"
   ]
  },
  {
   "cell_type": "code",
   "execution_count": 4,
   "metadata": {},
   "outputs": [
    {
     "data": {
      "text/plain": [
       "False"
      ]
     },
     "execution_count": 4,
     "metadata": {},
     "output_type": "execute_result"
    }
   ],
   "source": [
    "df.isnull().values.any()"
   ]
  },
  {
   "cell_type": "code",
   "execution_count": 5,
   "metadata": {},
   "outputs": [
    {
     "data": {
      "text/html": [
       "<div>\n",
       "<style scoped>\n",
       "    .dataframe tbody tr th:only-of-type {\n",
       "        vertical-align: middle;\n",
       "    }\n",
       "\n",
       "    .dataframe tbody tr th {\n",
       "        vertical-align: top;\n",
       "    }\n",
       "\n",
       "    .dataframe thead th {\n",
       "        text-align: right;\n",
       "    }\n",
       "</style>\n",
       "<table border=\"1\" class=\"dataframe\">\n",
       "  <thead>\n",
       "    <tr style=\"text-align: right;\">\n",
       "      <th></th>\n",
       "      <th>url</th>\n",
       "      <th>label</th>\n",
       "    </tr>\n",
       "  </thead>\n",
       "  <tbody>\n",
       "    <tr>\n",
       "      <th>0</th>\n",
       "      <td>nobell.it/70ffb52d079109dca5664cce6f317373782/...</td>\n",
       "      <td>bad</td>\n",
       "    </tr>\n",
       "    <tr>\n",
       "      <th>1</th>\n",
       "      <td>www.dghjdgf.com/paypal.co.uk/cycgi-bin/webscrc...</td>\n",
       "      <td>bad</td>\n",
       "    </tr>\n",
       "    <tr>\n",
       "      <th>2</th>\n",
       "      <td>serviciosbys.com/paypal.cgi.bin.get-into.herf....</td>\n",
       "      <td>bad</td>\n",
       "    </tr>\n",
       "    <tr>\n",
       "      <th>3</th>\n",
       "      <td>mail.printakid.com/www.online.americanexpress....</td>\n",
       "      <td>bad</td>\n",
       "    </tr>\n",
       "    <tr>\n",
       "      <th>4</th>\n",
       "      <td>thewhiskeydregs.com/wp-content/themes/widescre...</td>\n",
       "      <td>bad</td>\n",
       "    </tr>\n",
       "  </tbody>\n",
       "</table>\n",
       "</div>"
      ],
      "text/plain": [
       "                                                 url label\n",
       "0  nobell.it/70ffb52d079109dca5664cce6f317373782/...   bad\n",
       "1  www.dghjdgf.com/paypal.co.uk/cycgi-bin/webscrc...   bad\n",
       "2  serviciosbys.com/paypal.cgi.bin.get-into.herf....   bad\n",
       "3  mail.printakid.com/www.online.americanexpress....   bad\n",
       "4  thewhiskeydregs.com/wp-content/themes/widescre...   bad"
      ]
     },
     "execution_count": 5,
     "metadata": {},
     "output_type": "execute_result"
    }
   ],
   "source": [
    "df.columns = [x.lower() for x in df.columns]\n",
    "df.head()"
   ]
  },
  {
   "cell_type": "code",
   "execution_count": 6,
   "metadata": {},
   "outputs": [
    {
     "data": {
      "text/plain": [
       "good    392924\n",
       "bad     156422\n",
       "Name: label, dtype: int64"
      ]
     },
     "execution_count": 6,
     "metadata": {},
     "output_type": "execute_result"
    }
   ],
   "source": [
    "df['label'].value_counts()"
   ]
  },
  {
   "cell_type": "code",
   "execution_count": 7,
   "metadata": {},
   "outputs": [
    {
     "data": {
      "text/plain": [
       "<AxesSubplot:xlabel='label', ylabel='count'>"
      ]
     },
     "execution_count": 7,
     "metadata": {},
     "output_type": "execute_result"
    },
    {
     "data": {
      "image/png": "[encoded data removed]",
      "text/plain": [
       "<Figure size 432x288 with 1 Axes>"
      ]
     },
     "metadata": {
      "needs_background": "light"
     },
     "output_type": "display_data"
    }
   ],
   "source": [
    "sns.countplot(x=\"label\",data=df)"
   ]
  },
  {
   "cell_type": "code",
   "execution_count": 8,
   "metadata": {},
   "outputs": [],
   "source": [
    "df['Y'] = df['label'].apply(lambda x: 0 if x == 'good' else 1)"
   ]
  },
  {
   "cell_type": "markdown",
   "metadata": {},
   "source": [
    "# Feature Set 1: Properties of URL"
   ]
  },
  {
   "cell_type": "code",
   "execution_count": 9,
   "metadata": {},
   "outputs": [],
   "source": [
    "def feature_creation(x):\n",
    "    features = {}\n",
    "    \n",
    "    dom_ngram = {}\n",
    "    subdom_ngram = {}\n",
    "\n",
    "    dom = tldextract.extract(x).domain\n",
    "    subdom = tldextract.extract(x).subdomain\n",
    "    n  = 2\n",
    "    for index in range(0, len(dom), n):\n",
    "        dom_ngram[dom[index : index + n]] = 1\n",
    "    features.update(dom_ngram)\n",
    "\n",
    "    elements = [\n",
    "    {\"item\": \"domain\", \"data\": tldextract.extract(x).domain},\n",
    "    {\"item\": \"subdomain\", \"data\": tldextract.extract(x).subdomain},\n",
    "    {\"item\": \"suffix\", \"data\": tldextract.extract(x).suffix},\n",
    "    {\"item\": \"path\", \"data\": urlparse(x).path},\n",
    "    {\"item\": \"params\", \"data\": urlparse(x).params},\n",
    "    {\"item\": \"query\", \"data\": urlparse(x).query},\n",
    "    {\"item\": \"fragment\", \"data\": urlparse(x).fragment}]\n",
    "    \n",
    "    for i in elements:\n",
    "        features[f'len_{i[\"item\"]}'] = len(i[\"data\"])\n",
    "        for sc in '!@#$%-_=~?+;':\n",
    "            features[f'len_{sc}_in_{i[\"item\"]}'] = i[\"data\"].count(sc)\n",
    "        if i[\"item\"] in ['domain','path','subdomain']:\n",
    "            features[f'len_digits_in_{i[\"item\"]}'] = len(re.findall('[0-9]',x))\n",
    "            features[f'len_alphas_in_{i[\"item\"]}'] = len(re.findall('[a-z]',x.lower()))\n",
    "    return features"
   ]
  },
  {
   "cell_type": "code",
   "execution_count": 16,
   "metadata": {},
   "outputs": [],
   "source": [
    "df1 = df\n",
    "y_elements = []\n",
    "X_elements = []\n",
    "\n",
    "for url, label in zip(df1['url'], df1['Y']):\n",
    "    f = feature_creation(url)\n",
    "    y_elements.append(label)\n",
    "    X_elements.append(f)"
   ]
  },
  {
   "cell_type": "code",
   "execution_count": 17,
   "metadata": {},
   "outputs": [],
   "source": [
    "len_domain = []\n",
    "for i in X_elements:\n",
    "    len_domain.append(i.get('len_domain'))\n",
    "    \n",
    "len_digits_in_domain =[]\n",
    "for i in X_elements:\n",
    "    len_digits_in_domain.append(i.get('len_digits_in_domain'))\n",
    "\n",
    "len_alphas_in_path = []\n",
    "for i in X_elements:\n",
    "    len_alphas_in_path.append(i.get('len_alphas_in_path'))\n",
    "\n",
    "len_digits_in_subdomain = []\n",
    "for i in X_elements:\n",
    "    len_digits_in_subdomain.append(i.get('len_digits_in_subdomain'))\n",
    "\n",
    "len_alphas_in_subdomain =[]   \n",
    "for i in X_elements:\n",
    "    len_alphas_in_subdomain.append(i.get('len_alphas_in_subdomain'))\n",
    "\n",
    "len_path = []\n",
    "for i in X_elements:\n",
    "    len_path.append(i.get('len_path'))\n",
    "    \n",
    "len_digits_in_path = []\n",
    "for i in X_elements:\n",
    "    len_digits_in_path.append(i.get('len_digits_in_path'))\n",
    "\n",
    "len_alphas_in_path = []\n",
    "for i in X_elements:\n",
    "    len_alphas_in_path.append(i.get('len_alphas_in_path'))\n",
    "\n",
    "len_suffix = []"
   ]
  },
  {
   "cell_type": "code",
   "execution_count": 18,
   "metadata": {},
   "outputs": [],
   "source": [
    "pre_processor = DictVectorizer(sparse=True)\n",
    "X = pre_processor.fit_transform(X_elements)\n",
    "X = csr_matrix(X)\n",
    "X = X.tocsr()\n",
    "y = np.array(y_elements).astype(int)\n",
    "\n",
    "X_train, X_test, y_train, y_test = train_test_split(X, y, test_size=0.2, random_state=42)"
   ]
  },
  {
   "cell_type": "markdown",
   "metadata": {},
   "source": [
    "# Feature Set 2: Extraction using CountVectorizer"
   ]
  },
  {
   "cell_type": "code",
   "execution_count": 19,
   "metadata": {},
   "outputs": [],
   "source": [
    "def url_process(url):\n",
    "    url = re.sub('[^a-zA-Z\\ \\n]', '.', url.lower())\n",
    "    url =  re.sub('\\.{1,}', ' ', url)\n",
    "    url = url.split(' ')\n",
    "    \n",
    "    stemmer = SnowballStemmer(\"english\")\n",
    "    url = [stemmer.stem(word) for word in url]\n",
    "    url = ' '.join(url)\n",
    "    return url"
   ]
  },
  {
   "cell_type": "code",
   "execution_count": 20,
   "metadata": {},
   "outputs": [],
   "source": [
    "df2 = df\n",
    "df2['url_clean'] = df2['url'].apply(url_process)"
   ]
  },
  {
   "cell_type": "code",
   "execution_count": 21,
   "metadata": {},
   "outputs": [],
   "source": [
    "cv=CountVectorizer(ngram_range=(1, 2))\n",
    "\n",
    "X_train, X_test, y_train, y_test = train_test_split(df2['url_clean'], df2['Y'], test_size=0.2, random_state=5555)\n",
    "\n",
    "cv_fit = cv.fit(X_train)\n",
    "X_train = cv_fit.transform(X_train)\n",
    "\n",
    "X_test = cv_fit.transform(X_test)"
   ]
  },
  {
   "cell_type": "code",
   "execution_count": 22,
   "metadata": {},
   "outputs": [
    {
     "data": {
      "text/html": [
       "<div>\n",
       "<style scoped>\n",
       "    .dataframe tbody tr th:only-of-type {\n",
       "        vertical-align: middle;\n",
       "    }\n",
       "\n",
       "    .dataframe tbody tr th {\n",
       "        vertical-align: top;\n",
       "    }\n",
       "\n",
       "    .dataframe thead th {\n",
       "        text-align: right;\n",
       "    }\n",
       "</style>\n",
       "<table border=\"1\" class=\"dataframe\">\n",
       "  <thead>\n",
       "    <tr style=\"text-align: right;\">\n",
       "      <th></th>\n",
       "      <th>url</th>\n",
       "      <th>label</th>\n",
       "      <th>Y</th>\n",
       "      <th>url_clean</th>\n",
       "    </tr>\n",
       "  </thead>\n",
       "  <tbody>\n",
       "    <tr>\n",
       "      <th>0</th>\n",
       "      <td>nobell.it/70ffb52d079109dca5664cce6f317373782/...</td>\n",
       "      <td>bad</td>\n",
       "      <td>1</td>\n",
       "      <td>nobel it ffb d dca cce f login skype com en cg...</td>\n",
       "    </tr>\n",
       "    <tr>\n",
       "      <th>1</th>\n",
       "      <td>www.dghjdgf.com/paypal.co.uk/cycgi-bin/webscrc...</td>\n",
       "      <td>bad</td>\n",
       "      <td>1</td>\n",
       "      <td>www dghjdgf com paypal co uk cycgi bin webscrc...</td>\n",
       "    </tr>\n",
       "    <tr>\n",
       "      <th>2</th>\n",
       "      <td>serviciosbys.com/paypal.cgi.bin.get-into.herf....</td>\n",
       "      <td>bad</td>\n",
       "      <td>1</td>\n",
       "      <td>serviciosbi com paypal cgi bin get into herf s...</td>\n",
       "    </tr>\n",
       "    <tr>\n",
       "      <th>3</th>\n",
       "      <td>mail.printakid.com/www.online.americanexpress....</td>\n",
       "      <td>bad</td>\n",
       "      <td>1</td>\n",
       "      <td>mail printakid com www onlin americanexpress c...</td>\n",
       "    </tr>\n",
       "    <tr>\n",
       "      <th>4</th>\n",
       "      <td>thewhiskeydregs.com/wp-content/themes/widescre...</td>\n",
       "      <td>bad</td>\n",
       "      <td>1</td>\n",
       "      <td>thewhiskeydreg com wp content theme widescreen...</td>\n",
       "    </tr>\n",
       "  </tbody>\n",
       "</table>\n",
       "</div>"
      ],
      "text/plain": [
       "                                                 url label  Y  \\\n",
       "0  nobell.it/70ffb52d079109dca5664cce6f317373782/...   bad  1   \n",
       "1  www.dghjdgf.com/paypal.co.uk/cycgi-bin/webscrc...   bad  1   \n",
       "2  serviciosbys.com/paypal.cgi.bin.get-into.herf....   bad  1   \n",
       "3  mail.printakid.com/www.online.americanexpress....   bad  1   \n",
       "4  thewhiskeydregs.com/wp-content/themes/widescre...   bad  1   \n",
       "\n",
       "                                           url_clean  \n",
       "0  nobel it ffb d dca cce f login skype com en cg...  \n",
       "1  www dghjdgf com paypal co uk cycgi bin webscrc...  \n",
       "2  serviciosbi com paypal cgi bin get into herf s...  \n",
       "3  mail printakid com www onlin americanexpress c...  \n",
       "4  thewhiskeydreg com wp content theme widescreen...  "
      ]
     },
     "execution_count": 22,
     "metadata": {},
     "output_type": "execute_result"
    }
   ],
   "source": [
    "df2.head()"
   ]
  }
 ],
 "metadata": {
  "kernelspec": {
   "display_name": "Python 3 (ipykernel)",
   "language": "python",
   "name": "python3"
  },
  "language_info": {
   "codemirror_mode": {
    "name": "ipython",
    "version": 3
   },
   "file_extension": ".py",
   "mimetype": "text/x-python",
   "name": "python",
   "nbconvert_exporter": "python",
   "pygments_lexer": "ipython3",
   "version": "3.10.5"
  }
 },
 "nbformat": 4,
 "nbformat_minor": 4
}
