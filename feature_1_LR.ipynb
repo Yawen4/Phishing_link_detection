{
 "cells": [
  {
   "cell_type": "code",
   "execution_count": 2,
   "metadata": {},
   "outputs": [],
   "source": [
    "import pandas as pd\n",
    "import numpy as np\n",
    "import os\n",
    "import seaborn as sns\n",
    "import matplotlib.pyplot as plt\n",
    "from sklearn.feature_extraction.text import TfidfTransformer\n",
    "from sklearn.model_selection import train_test_split\n",
    "from sklearn.feature_extraction.text import CountVectorizer\n",
    "from sklearn.pipeline import Pipeline\n",
    "from sklearn.metrics import classification_report, confusion_matrix, log_loss, accuracy_score\n",
    "import re\n",
    "import string\n",
    "import gensim\n",
    "from nltk.corpus import stopwords\n",
    "from sklearn.naive_bayes import MultinomialNB\n",
    "from sklearn.linear_model import LogisticRegression\n",
    "from nltk.stem.snowball import SnowballStemmer\n",
    "\n",
    "from sklearn.feature_extraction import DictVectorizer\n",
    "from scipy.sparse import csr_matrix\n",
    "from xgboost import XGBClassifier\n",
    "import tldextract\n",
    "from urllib.parse import urlparse\n",
    "\n",
    "import warnings\n",
    "warnings.filterwarnings(\"ignore\")\n",
    "\n",
    "#import pickle\n",
    "#import joblib"
   ]
  },
  {
   "cell_type": "code",
   "execution_count": 3,
   "metadata": {},
   "outputs": [],
   "source": [
    "df = pd.read_csv('phishing_site_urls.csv')\n",
    "df.columns = [x.lower() for x in df.columns]\n",
    "df['Y'] = df['label'].apply(lambda x: 0 if x == 'good' else 1)"
   ]
  },
  {
   "cell_type": "code",
   "execution_count": 4,
   "metadata": {},
   "outputs": [],
   "source": [
    "def feature_creation(x):\n",
    "    features = {}\n",
    "    \n",
    "    dom_ngram = {}\n",
    "    subdom_ngram = {}\n",
    "\n",
    "    dom = tldextract.extract(x).domain\n",
    "    subdom = tldextract.extract(x).subdomain\n",
    "    n  = 2\n",
    "    for index in range(0, len(dom), n):\n",
    "        dom_ngram[dom[index : index + n]] = 1\n",
    "    features.update(dom_ngram)\n",
    "\n",
    "    elements = [\n",
    "    {\"item\": \"domain\", \"data\": tldextract.extract(x).domain},\n",
    "    {\"item\": \"subdomain\", \"data\": tldextract.extract(x).subdomain},\n",
    "    {\"item\": \"suffix\", \"data\": tldextract.extract(x).suffix},\n",
    "    {\"item\": \"path\", \"data\": urlparse(x).path},\n",
    "    {\"item\": \"params\", \"data\": urlparse(x).params},\n",
    "    {\"item\": \"query\", \"data\": urlparse(x).query},\n",
    "    {\"item\": \"fragment\", \"data\": urlparse(x).fragment}]\n",
    "    \n",
    "    for i in elements:\n",
    "        features[f'len_{i[\"item\"]}'] = len(i[\"data\"])\n",
    "        for sc in '!@#$%-_=~?+;':\n",
    "            features[f'len_{sc}_in_{i[\"item\"]}'] = i[\"data\"].count(sc)\n",
    "        if i[\"item\"] in ['domain','path','subdomain']:\n",
    "            features[f'len_digits_in_{i[\"item\"]}'] = len(re.findall('[0-9]',x))\n",
    "            features[f'len_alphas_in_{i[\"item\"]}'] = len(re.findall('[a-z]',x.lower()))\n",
    "    return features"
   ]
  },
  {
   "cell_type": "code",
   "execution_count": 5,
   "metadata": {},
   "outputs": [],
   "source": [
    "y_elements = []\n",
    "X_elements = []\n",
    "\n",
    "for url, label in zip(df['url'], df['Y']):\n",
    "    f = feature_creation(url)\n",
    "    y_elements.append(label)\n",
    "    X_elements.append(f)"
   ]
  },
  {
   "cell_type": "code",
   "execution_count": 6,
   "metadata": {},
   "outputs": [],
   "source": [
    "pre_processor = DictVectorizer(sparse=True)\n",
    "X = pre_processor.fit_transform(X_elements)\n",
    "X = csr_matrix(X)\n",
    "X = X.tocsr()\n",
    "y = np.array(y_elements).astype(int)\n",
    "\n",
    "X_train, X_test, y_train, y_test = train_test_split(X, y, test_size=0.2, random_state=42)"
   ]
  },
  {
   "cell_type": "code",
   "execution_count": 7,
   "metadata": {},
   "outputs": [
    {
     "name": "stdout",
     "output_type": "stream",
     "text": [
      "CPU times: user 14.5 s, sys: 56.2 ms, total: 14.6 s\n",
      "Wall time: 14.6 s\n"
     ]
    },
    {
     "name": "stderr",
     "output_type": "stream",
     "text": [
      "/opt/anaconda3/lib/python3.7/site-packages/sklearn/linear_model/_logistic.py:765: ConvergenceWarning: lbfgs failed to converge (status=1):\n",
      "STOP: TOTAL NO. of ITERATIONS REACHED LIMIT.\n",
      "\n",
      "Increase the number of iterations (max_iter) or scale the data as shown in:\n",
      "    https://scikit-learn.org/stable/modules/preprocessing.html\n",
      "Please also refer to the documentation for alternative solver options:\n",
      "    https://scikit-learn.org/stable/modules/linear_model.html#logistic-regression\n",
      "  extra_warning_msg=_LOGISTIC_SOLVER_CONVERGENCE_MSG)\n"
     ]
    }
   ],
   "source": [
    "%%time\n",
    "\n",
    "from sklearn.linear_model import LogisticRegression\n",
    "\n",
    "lg = LogisticRegression()\n",
    "lg.fit(X_train, y_train)\n",
    "pred = lg.predict(X_test)\n",
    "\n"
   ]
  },
  {
   "cell_type": "code",
   "execution_count": 8,
   "metadata": {},
   "outputs": [
    {
     "name": "stdout",
     "output_type": "stream",
     "text": [
      "\n",
      "CLASSIFICATION REPORT\n",
      "\n",
      "              precision    recall  f1-score   support\n",
      "\n",
      "           0       0.80      0.94      0.87     78670\n",
      "           1       0.75      0.42      0.54     31200\n",
      "\n",
      "    accuracy                           0.80    109870\n",
      "   macro avg       0.78      0.68      0.70    109870\n",
      "weighted avg       0.79      0.80      0.77    109870\n",
      "\n"
     ]
    }
   ],
   "source": [
    "print('\\nCLASSIFICATION REPORT\\n')\n",
    "print(classification_report(y_test,lg.predict(X_test)))"
   ]
  },
  {
   "cell_type": "code",
   "execution_count": 9,
   "metadata": {},
   "outputs": [
    {
     "name": "stdout",
     "output_type": "stream",
     "text": [
      "\n",
      "CONFUSION MATRIX\n"
     ]
    },
    {
     "data": {
      "text/plain": [
       "<matplotlib.axes._subplots.AxesSubplot at 0x7fccd8140d50>"
      ]
     },
     "execution_count": 9,
     "metadata": {},
     "output_type": "execute_result"
    },
    {
     "data": {
      "image/png": "[encoded data removed]",
      "text/plain": [
       "<Figure size 432x288 with 2 Axes>"
      ]
     },
     "metadata": {
      "needs_background": "light"
     },
     "output_type": "display_data"
    }
   ],
   "source": [
    "con_mat = pd.DataFrame(confusion_matrix(y_test,lg.predict(X_test)),\n",
    "            columns = ['Predicted:Good', 'Predicted:Bad'],\n",
    "            index = ['Actual:Good', 'Actual:Bad'])\n",
    "\n",
    "\n",
    "print('\\nCONFUSION MATRIX')\n",
    "plt.figure(figsize= (6,4))\n",
    "sns.heatmap(con_mat, annot = True,fmt='d',cmap=\"YlGnBu\")"
   ]
  }
 ],
 "metadata": {
  "kernelspec": {
   "display_name": "Python 3",
   "language": "python",
   "name": "python3"
  },
  "language_info": {
   "codemirror_mode": {
    "name": "ipython",
    "version": 3
   },
   "file_extension": ".py",
   "mimetype": "text/x-python",
   "name": "python",
   "nbconvert_exporter": "python",
   "pygments_lexer": "ipython3",
   "version": "3.7.6"
  }
 },
 "nbformat": 4,
 "nbformat_minor": 4
}
