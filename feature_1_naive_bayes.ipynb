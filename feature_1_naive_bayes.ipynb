{
 "cells": [
  {
   "cell_type": "code",
   "execution_count": 1,
   "metadata": {
    "id": "jmK9YugRzzf2"
   },
   "outputs": [],
   "source": [
    "import pandas as pd\n",
    "import numpy as np\n",
    "import os\n",
    "import seaborn as sns\n",
    "import matplotlib.pyplot as plt\n",
    "from sklearn.feature_extraction.text import TfidfTransformer\n",
    "from sklearn.model_selection import train_test_split\n",
    "from sklearn.feature_extraction.text import CountVectorizer\n",
    "from sklearn.pipeline import Pipeline\n",
    "\n",
    "from sklearn.metrics import classification_report, confusion_matrix, log_loss, accuracy_score\n",
    "import re\n",
    "import string\n",
    "import gensim\n",
    "from nltk.corpus import stopwords\n",
    "from sklearn.naive_bayes import MultinomialNB\n",
    "from sklearn.linear_model import LogisticRegression\n",
    "from nltk.stem.snowball import SnowballStemmer\n",
    "\n",
    "from sklearn.feature_extraction import DictVectorizer\n",
    "from scipy.sparse import csr_matrix\n",
    "import tldextract\n",
    "from urllib.parse import urlparse\n"
   ]
  },
  {
   "cell_type": "code",
   "execution_count": 3,
   "metadata": {
    "colab": {
     "base_uri": "https://localhost:8080/"
    },
    "id": "SN7Ur9Tl1yHW",
    "outputId": "501b82e1-a3c2-405f-cbbf-6cfe1da92fa8"
   },
   "outputs": [
    {
     "name": "stdout",
     "output_type": "stream",
     "text": [
      "Looking in indexes: https://pypi.org/simple, https://us-python.pkg.dev/colab-wheels/public/simple/\n",
      "Requirement already satisfied: tldextract in /usr/local/lib/python3.7/dist-packages (3.3.0)\n",
      "Requirement already satisfied: requests-file>=1.4 in /usr/local/lib/python3.7/dist-packages (from tldextract) (1.5.1)\n",
      "Requirement already satisfied: requests>=2.1.0 in /usr/local/lib/python3.7/dist-packages (from tldextract) (2.23.0)\n",
      "Requirement already satisfied: filelock>=3.0.8 in /usr/local/lib/python3.7/dist-packages (from tldextract) (3.7.1)\n",
      "Requirement already satisfied: idna in /usr/local/lib/python3.7/dist-packages (from tldextract) (2.10)\n",
      "Requirement already satisfied: certifi>=2017.4.17 in /usr/local/lib/python3.7/dist-packages (from requests>=2.1.0->tldextract) (2022.5.18.1)\n",
      "Requirement already satisfied: urllib3!=1.25.0,!=1.25.1,<1.26,>=1.21.1 in /usr/local/lib/python3.7/dist-packages (from requests>=2.1.0->tldextract) (1.24.3)\n",
      "Requirement already satisfied: chardet<4,>=3.0.2 in /usr/local/lib/python3.7/dist-packages (from requests>=2.1.0->tldextract) (3.0.4)\n",
      "Requirement already satisfied: six in /usr/local/lib/python3.7/dist-packages (from requests-file>=1.4->tldextract) (1.15.0)\n"
     ]
    }
   ],
   "source": [
    "pip install tldextract"
   ]
  },
  {
   "cell_type": "code",
   "execution_count": 2,
   "metadata": {
    "id": "LS3-LWlJzzf6"
   },
   "outputs": [],
   "source": [
    "df = pd.read_csv('phishing_site_urls.csv')\n",
    "df.columns = [x.lower() for x in df.columns]\n",
    "df['Y'] = df['label'].apply(lambda x: 0 if x == 'good' else 1)"
   ]
  },
  {
   "cell_type": "code",
   "execution_count": 3,
   "metadata": {
    "id": "kQWj_06Xzzf7"
   },
   "outputs": [],
   "source": [
    "def feature_creation(x):\n",
    "    features = {}\n",
    "    \n",
    "    dom_ngram = {}\n",
    "    subdom_ngram = {}\n",
    "\n",
    "    dom = tldextract.extract(x).domain\n",
    "    subdom = tldextract.extract(x).subdomain\n",
    "    n  = 2\n",
    "    for index in range(0, len(dom), n):\n",
    "        dom_ngram[dom[index : index + n]] = 1\n",
    "    features.update(dom_ngram)\n",
    "\n",
    "    elements = [\n",
    "    {\"item\": \"domain\", \"data\": tldextract.extract(x).domain},\n",
    "    {\"item\": \"subdomain\", \"data\": tldextract.extract(x).subdomain},\n",
    "    {\"item\": \"suffix\", \"data\": tldextract.extract(x).suffix},\n",
    "    {\"item\": \"path\", \"data\": urlparse(x).path},\n",
    "    {\"item\": \"params\", \"data\": urlparse(x).params},\n",
    "    {\"item\": \"query\", \"data\": urlparse(x).query},\n",
    "    {\"item\": \"fragment\", \"data\": urlparse(x).fragment}]\n",
    "    \n",
    "    for i in elements:\n",
    "        features[f'len_{i[\"item\"]}'] = len(i[\"data\"])\n",
    "        for sc in '!@#$%-_=~?+;':\n",
    "            features[f'len_{sc}_in_{i[\"item\"]}'] = i[\"data\"].count(sc)\n",
    "        if i[\"item\"] in ['domain','path','subdomain']:\n",
    "            features[f'len_digits_in_{i[\"item\"]}'] = len(re.findall('[0-9]',x))\n",
    "            features[f'len_alphas_in_{i[\"item\"]}'] = len(re.findall('[a-z]',x.lower()))\n",
    "    return features"
   ]
  },
  {
   "cell_type": "code",
   "execution_count": 4,
   "metadata": {
    "id": "vq9hyyw2zzf8"
   },
   "outputs": [],
   "source": [
    "y_elements = []\n",
    "X_elements = []\n",
    "\n",
    "for url, label in zip(df['url'], df['Y']):\n",
    "    f = feature_creation(url)\n",
    "    y_elements.append(label)\n",
    "    X_elements.append(f)"
   ]
  },
  {
   "cell_type": "code",
   "execution_count": 5,
   "metadata": {
    "id": "ovKX7cnezzf8"
   },
   "outputs": [],
   "source": [
    "len_domain = []\n",
    "for i in X_elements:\n",
    "    len_domain.append(i.get('len_domain'))\n",
    "    \n",
    "len_digits_in_domain =[]\n",
    "for i in X_elements:\n",
    "    len_digits_in_domain.append(i.get('len_digits_in_domain'))\n",
    "\n",
    "len_alphas_in_path = []\n",
    "for i in X_elements:\n",
    "    len_alphas_in_path.append(i.get('len_alphas_in_path'))\n",
    "\n",
    "len_digits_in_subdomain = []\n",
    "for i in X_elements:\n",
    "    len_digits_in_subdomain.append(i.get('len_digits_in_subdomain'))\n",
    "\n",
    "len_alphas_in_subdomain =[]   \n",
    "for i in X_elements:\n",
    "    len_alphas_in_subdomain.append(i.get('len_alphas_in_subdomain'))\n",
    "\n",
    "len_path = []\n",
    "for i in X_elements:\n",
    "    len_path.append(i.get('len_path'))\n",
    "    \n",
    "len_digits_in_path = []\n",
    "for i in X_elements:\n",
    "    len_digits_in_path.append(i.get('len_digits_in_path'))\n",
    "\n",
    "len_alphas_in_path = []\n",
    "for i in X_elements:\n",
    "    len_alphas_in_path.append(i.get('len_alphas_in_path'))\n",
    "\n",
    "len_suffix = []"
   ]
  },
  {
   "cell_type": "code",
   "execution_count": 6,
   "metadata": {
    "id": "7pmdOCJczzf9"
   },
   "outputs": [],
   "source": [
    "pre_processor = DictVectorizer()\n",
    "X = pre_processor.fit_transform(X_elements)\n",
    "X = csr_matrix(X)\n",
    "X = X.tocsr()\n",
    "y = np.array(y_elements).astype(int)"
   ]
  },
  {
   "cell_type": "code",
   "execution_count": 7,
   "metadata": {
    "id": "yoajKOjP5_ny"
   },
   "outputs": [],
   "source": [
    "X_train, X_test, y_train, y_test = train_test_split(X, y, test_size=0.2, random_state=42)"
   ]
  },
  {
   "cell_type": "code",
   "execution_count": 8,
   "metadata": {
    "colab": {
     "base_uri": "https://localhost:8080/"
    },
    "id": "ubMzm7QIzzf-",
    "outputId": "c05cb3fd-d937-4423-bbca-726275487e06"
   },
   "outputs": [
    {
     "data": {
      "text/html": [
       "<style>#sk-container-id-1 {color: black;background-color: white;}#sk-container-id-1 pre{padding: 0;}#sk-container-id-1 div.sk-toggleable {background-color: white;}#sk-container-id-1 label.sk-toggleable__label {cursor: pointer;display: block;width: 100%;margin-bottom: 0;padding: 0.3em;box-sizing: border-box;text-align: center;}#sk-container-id-1 label.sk-toggleable__label-arrow:before {content: \"▸\";float: left;margin-right: 0.25em;color: #696969;}#sk-container-id-1 label.sk-toggleable__label-arrow:hover:before {color: black;}#sk-container-id-1 div.sk-estimator:hover label.sk-toggleable__label-arrow:before {color: black;}#sk-container-id-1 div.sk-toggleable__content {max-height: 0;max-width: 0;overflow: hidden;text-align: left;background-color: #f0f8ff;}#sk-container-id-1 div.sk-toggleable__content pre {margin: 0.2em;color: black;border-radius: 0.25em;background-color: #f0f8ff;}#sk-container-id-1 input.sk-toggleable__control:checked~div.sk-toggleable__content {max-height: 200px;max-width: 100%;overflow: auto;}#sk-container-id-1 input.sk-toggleable__control:checked~label.sk-toggleable__label-arrow:before {content: \"▾\";}#sk-container-id-1 div.sk-estimator input.sk-toggleable__control:checked~label.sk-toggleable__label {background-color: #d4ebff;}#sk-container-id-1 div.sk-label input.sk-toggleable__control:checked~label.sk-toggleable__label {background-color: #d4ebff;}#sk-container-id-1 input.sk-hidden--visually {border: 0;clip: rect(1px 1px 1px 1px);clip: rect(1px, 1px, 1px, 1px);height: 1px;margin: -1px;overflow: hidden;padding: 0;position: absolute;width: 1px;}#sk-container-id-1 div.sk-estimator {font-family: monospace;background-color: #f0f8ff;border: 1px dotted black;border-radius: 0.25em;box-sizing: border-box;margin-bottom: 0.5em;}#sk-container-id-1 div.sk-estimator:hover {background-color: #d4ebff;}#sk-container-id-1 div.sk-parallel-item::after {content: \"\";width: 100%;border-bottom: 1px solid gray;flex-grow: 1;}#sk-container-id-1 div.sk-label:hover label.sk-toggleable__label {background-color: #d4ebff;}#sk-container-id-1 div.sk-serial::before {content: \"\";position: absolute;border-left: 1px solid gray;box-sizing: border-box;top: 0;bottom: 0;left: 50%;z-index: 0;}#sk-container-id-1 div.sk-serial {display: flex;flex-direction: column;align-items: center;background-color: white;padding-right: 0.2em;padding-left: 0.2em;position: relative;}#sk-container-id-1 div.sk-item {position: relative;z-index: 1;}#sk-container-id-1 div.sk-parallel {display: flex;align-items: stretch;justify-content: center;background-color: white;position: relative;}#sk-container-id-1 div.sk-item::before, #sk-container-id-1 div.sk-parallel-item::before {content: \"\";position: absolute;border-left: 1px solid gray;box-sizing: border-box;top: 0;bottom: 0;left: 50%;z-index: -1;}#sk-container-id-1 div.sk-parallel-item {display: flex;flex-direction: column;z-index: 1;position: relative;background-color: white;}#sk-container-id-1 div.sk-parallel-item:first-child::after {align-self: flex-end;width: 50%;}#sk-container-id-1 div.sk-parallel-item:last-child::after {align-self: flex-start;width: 50%;}#sk-container-id-1 div.sk-parallel-item:only-child::after {width: 0;}#sk-container-id-1 div.sk-dashed-wrapped {border: 1px dashed gray;margin: 0 0.4em 0.5em 0.4em;box-sizing: border-box;padding-bottom: 0.4em;background-color: white;}#sk-container-id-1 div.sk-label label {font-family: monospace;font-weight: bold;display: inline-block;line-height: 1.2em;}#sk-container-id-1 div.sk-label-container {text-align: center;}#sk-container-id-1 div.sk-container {/* jupyter's `normalize.less` sets `[hidden] { display: none; }` but bootstrap.min.css set `[hidden] { display: none !important; }` so we also need the `!important` here to be able to override the default hidden behavior on the sphinx rendered scikit-learn.org. See: https://github.com/scikit-learn/scikit-learn/issues/21755 */display: inline-block !important;position: relative;}#sk-container-id-1 div.sk-text-repr-fallback {display: none;}</style><div id=\"sk-container-id-1\" class=\"sk-top-container\"><div class=\"sk-text-repr-fallback\"><pre>MultinomialNB()</pre><b>In a Jupyter environment, please rerun this cell to show the HTML representation or trust the notebook. <br />On GitHub, the HTML representation is unable to render, please try loading this page with nbviewer.org.</b></div><div class=\"sk-container\" hidden><div class=\"sk-item\"><div class=\"sk-estimator sk-toggleable\"><input class=\"sk-toggleable__control sk-hidden--visually\" id=\"sk-estimator-id-1\" type=\"checkbox\" checked><label for=\"sk-estimator-id-1\" class=\"sk-toggleable__label sk-toggleable__label-arrow\">MultinomialNB</label><div class=\"sk-toggleable__content\"><pre>MultinomialNB()</pre></div></div></div></div></div>"
      ],
      "text/plain": [
       "MultinomialNB()"
      ]
     },
     "execution_count": 8,
     "metadata": {},
     "output_type": "execute_result"
    }
   ],
   "source": [
    "from sklearn.naive_bayes import MultinomialNB \n",
    "mnb = MultinomialNB()\n",
    "mnb.fit(X_train, y_train)"
   ]
  },
  {
   "cell_type": "code",
   "execution_count": 9,
   "metadata": {
    "colab": {
     "base_uri": "https://localhost:8080/"
    },
    "id": "sNhtaDQHzzf_",
    "outputId": "9272aa7c-2260-4515-e0b5-3c1ba276fa4a"
   },
   "outputs": [
    {
     "name": "stdout",
     "output_type": "stream",
     "text": [
      "Log loss: 4.751005990696878\n",
      "Score acc: 0.7114954036588695\n"
     ]
    }
   ],
   "source": [
    "score = log_loss(y_test, mnb.predict_proba(X_test))\n",
    "y_pred = mnb.predict(X_test)\n",
    "score_acc = accuracy_score(y_test, y_pred)\n",
    "\n",
    "print(f\"Log loss: {score}\")\n",
    "print(f\"Score acc: {score_acc}\")"
   ]
  },
  {
   "cell_type": "code",
   "execution_count": 11,
   "metadata": {
    "id": "wfHw0ptL8mgJ"
   },
   "outputs": [
    {
     "name": "stdout",
     "output_type": "stream",
     "text": [
      "\n",
      "CLASSIFICATION REPORT\n",
      "\n",
      "              precision    recall  f1-score   support\n",
      "\n",
      "           0       0.86      0.77      0.81     87954\n",
      "           1       0.34      0.49      0.40     21916\n",
      "\n",
      "    accuracy                           0.71    109870\n",
      "   macro avg       0.60      0.63      0.61    109870\n",
      "weighted avg       0.75      0.71      0.73    109870\n",
      "\n",
      "\n",
      "CONFUSION MATRIX\n"
     ]
    },
    {
     "data": {
      "text/plain": [
       "<AxesSubplot:>"
      ]
     },
     "execution_count": 11,
     "metadata": {},
     "output_type": "execute_result"
    },
    {
     "data": {
      "image/png": "[encoded data removed]",
      "text/plain": [
       "<Figure size 432x288 with 2 Axes>"
      ]
     },
     "metadata": {
      "needs_background": "light"
     },
     "output_type": "display_data"
    }
   ],
   "source": [
    "con_mat = pd.DataFrame(confusion_matrix(mnb.predict(X_test), y_test),\n",
    "            columns = ['Predicted:Good', 'Predicted:Bad'],\n",
    "            index = ['Actual:Good', 'Actual:Bad'])\n",
    "\n",
    "\n",
    "print('\\nCLASSIFICATION REPORT\\n')\n",
    "print(classification_report(mnb.predict(X_test), y_test))\n",
    "\n",
    "print('\\nCONFUSION MATRIX')\n",
    "plt.figure(figsize= (6,4))\n",
    "sns.heatmap(con_mat, annot = True,fmt='d',cmap=\"YlGnBu\")"
   ]
  },
  {
   "cell_type": "code",
   "execution_count": null,
   "metadata": {},
   "outputs": [],
   "source": []
  }
 ],
 "metadata": {
  "colab": {
   "collapsed_sections": [],
   "name": "feature_two_naive_bayes_model.ipynb",
   "provenance": []
  },
  "kernelspec": {
   "display_name": "Python 3 (ipykernel)",
   "language": "python",
   "name": "python3"
  },
  "language_info": {
   "codemirror_mode": {
    "name": "ipython",
    "version": 3
   },
   "file_extension": ".py",
   "mimetype": "text/x-python",
   "name": "python",
   "nbconvert_exporter": "python",
   "pygments_lexer": "ipython3",
   "version": "3.9.12"
  }
 },
 "nbformat": 4,
 "nbformat_minor": 1
}
